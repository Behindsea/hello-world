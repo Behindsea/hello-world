{
 "cells": [
  {
   "cell_type": "markdown",
   "metadata": {},
   "source": [
    "# 编程入门教程 -- 写给多年前的自己\n",
    "\n",
    "## 关于计算机编程的定义\n",
    "所谓计算机编程，就是用计算机可以理解的语言，写下一连串指令，指挥计算机完成特定任务的创作过程。\n",
    "\n",
    "就如同你的上司（或者老师）给了你一张纸条，上面写着你今天一整天需要完成的任务（假设这些任务的细节你都可以很完美的执行）。你拿着这张纸条，按照上面一步一步的完成工作任务。所谓的编程，就是你上司在布置任务前写下这张纸条的过程。区别只是你上司面对的是人，而你将要面对的是计算机。\n",
    "\n",
    "不要认为计算机有多聪明，聪明的只是人。而你所看到的所谓“智能化”软件，都是程序员想方设法让它“看起来”智能。想想也很容易理解：看看计算机是谁发明的吧。\n",
    "\n",
    "## 关于学习编程\n",
    "所谓学习知识，就是弄清楚一个个概念的过程。\n",
    "\n",
    "在学习这些概念前，有一点值得说明。优秀的编程入门教材及其稀少，大多数教材都会尝试用最“准确”的方式去解释某个概念。再加上一些不恰当的类比，这就会使得教材看起来很高深，但并没有什么实际可操作性。而且概念本身只是给人看的，计算机并不需要这些。因此并不需要在这些力求“准确”的概念上花太多注意力。如果可以，死记硬背记住；否则，直接开始写代码吧。\n",
    "\n",
    "**写的多了，自然就懂。**\n",
    "\n",
    "## 简单开始\n",
    "先来一个惯例，编程必备："
   ]
  },
  {
   "cell_type": "code",
   "execution_count": 11,
   "metadata": {},
   "outputs": [
    {
     "name": "stdout",
     "output_type": "stream",
     "text": [
      "Hello world!\n"
     ]
    }
   ],
   "source": [
    "print(\"Hello world!\")"
   ]
  },
  {
   "cell_type": "markdown",
   "metadata": {},
   "source": [
    "上面的代码示例给了计算机一条指令，打印**Hello world!**。于是计算机就照做了，就这么简单。\n",
    "\n",
    "不要嫌弃它太过于简单，复杂的程序也是通过类似的方式完成的，只是复杂度不一样。别着急，慢慢来。\n",
    "\n",
    "## 基本概念\n",
    "**变量**\n",
    "\n",
    "在程序设计中，变量（英语：Variable，scalar）是指一个包含部分已知或未知数值或资讯（即一个值）之储存位址，以及相对应之符号名称）。\n",
    "\n",
    "如果能理解则理解，若不能直接套用数学中的变量概念去理解。还是那句话，着用着就知道区别在哪了。\n",
    "\n",
    "**函数**\n",
    "\n",
    "函数就是一段能够实现特定功能的程序代码。\n",
    "\n",
    "不在于长短，也不在于有没有结果输出，这一点与数学上不太一样。当然，如果不嫌弃，就用数学上的概念去先理解着，那又有什么关系呢，反正用着用着再回来你就知道它是什么。\n",
    "\n",
    "下面演示一个函数与变量的例子："
   ]
  },
  {
   "cell_type": "code",
   "execution_count": 12,
   "metadata": {
    "scrolled": true
   },
   "outputs": [
    {
     "name": "stdout",
     "output_type": "stream",
     "text": [
      "3\n"
     ]
    }
   ],
   "source": [
    "# 先定义一个加法函数plus\n",
    "def plus(num1, num2):\n",
    "    return num1 + num2\n",
    "# 定义变量，并且使用它\n",
    "x = 1\n",
    "y = 2\n",
    "# 调用函数，并且用一个变量保存结果\n",
    "z = plus(x, y)\n",
    "print(z)"
   ]
  },
  {
   "cell_type": "markdown",
   "metadata": {},
   "source": [
    "上面的例子中，是不是有着数学函数的影子呢。\n",
    "\n",
    "*注意：代码中的“#”代表其后的文字都是注释，简单的说就是给写代码的人看的，计算机在执行的时候会自动忽略它。*\n",
    "\n",
    "下面我们来看一个不太一样的例子："
   ]
  },
  {
   "cell_type": "code",
   "execution_count": 13,
   "metadata": {},
   "outputs": [
    {
     "name": "stdout",
     "output_type": "stream",
     "text": [
      "Hello World!\n",
      "Hello World!\n"
     ]
    }
   ],
   "source": [
    "# 定义一个函数print_twice\n",
    "def hello_twice():\n",
    "    print(\"Hello World!\")\n",
    "    print(\"Hello World!\")\n",
    "\n",
    "# 调用函数\n",
    "hello_twice()"
   ]
  },
  {
   "cell_type": "markdown",
   "metadata": {},
   "source": [
    "这个函数没有输入值，也没有输出值，仅用来完成一系列动作（在此是打印两次“Hello World”）。现在再回去看看函数和变量的定义，或许会有不一样的理解。\n",
    "\n",
    "**数据类型**\n",
    "\n",
    "为了完成不同的工作，计算机需要处理不同类型的数据于是需要使用不同的数据类型。常见的数据类型如文本、数字（整数）、浮点数字（小数）、byte（二进制数据）等。还有一些数据类型在于结构不同，如列表（list），它就是一个传统意义上的列表（字条上写1、2、3、的那种），用于存放一组数据。这些存放的数据可以是数字，也可以是文本等。\n"
   ]
  },
  {
   "cell_type": "code",
   "execution_count": 14,
   "metadata": {},
   "outputs": [],
   "source": [
    "# 这是一个文本，写在\"\"里面\n",
    "x = \"wenben\"\n",
    "# 这是一个数字，直接写数字就好\n",
    "y = 2\n",
    "# 这是一个浮点数，要带小数点哦！\n",
    "z = 2.2\n",
    "# 这是一个列表，中括号里面各个元素要用(,)隔开\n",
    "m = [1, 2, 3]"
   ]
  },
  {
   "cell_type": "markdown",
   "metadata": {},
   "source": [
    "记住就好，相信我，这绝不是难点。也请相信我，你还会经常出错。尤其是\"2\" 与 2 的区别；2.0 与 2 的区别。\n",
    "\n",
    "简单点说，就是**物种之间有区别，请勿胡乱搭配！**\n",
    "\n",
    "**条件语句**\n",
    "\n",
    "格式：\n",
    "\n",
    "```python\n",
    "if A:\n",
    "    doA\n",
    "elif B:\n",
    "    doB\n",
    "else:\n",
    "    doC\n",
    "```\n",
    "意识是：如果A对就执行doA，否则看B；B对则执行doB，否则就执行doC。看例子："
   ]
  },
  {
   "cell_type": "code",
   "execution_count": 15,
   "metadata": {},
   "outputs": [
    {
     "name": "stdout",
     "output_type": "stream",
     "text": [
      "1 + 1 = 2\n"
     ]
    }
   ],
   "source": [
    "# 代码大意：\n",
    "# 如果1+1=2就打印“1 + 1 = 2”，否则往下继续；\n",
    "# 如果1 + 1 > 2，就打印\"1 + 1 > 2\"，否则往下继续；\n",
    "# 如果1 + 1 < 2就打印\"1 + 1 < 2\"，否则往下继续；\n",
    "# 如果都不是，就打印\"我也不知道了\"，执行完毕；\n",
    "if 1 + 1 == 2:\n",
    "    print(\"1 + 1 = 2\")\n",
    "elif 1 + 1 > 2:\n",
    "    print(\"1 + 1 > 2\")\n",
    "elif 1 + 1 < 2:\n",
    "    print(\"1 + 1 < 2\")\n",
    "else:\n",
    "    print(\"别问我，我不会算数\")"
   ]
  },
  {
   "cell_type": "markdown",
   "metadata": {},
   "source": [
    "需要记住的是，所有情况只会执行一次。\n",
    "\n",
    "**循环语句**\n",
    "\n",
    "就是重复劳动。看例子："
   ]
  },
  {
   "cell_type": "code",
   "execution_count": 16,
   "metadata": {
    "scrolled": true
   },
   "outputs": [
    {
     "name": "stdout",
     "output_type": "stream",
     "text": [
      "0\n",
      "1\n",
      "2\n",
      "3\n",
      "4\n",
      "5\n",
      "6\n",
      "7\n",
      "8\n",
      "9\n"
     ]
    }
   ],
   "source": [
    "# 代码大意：\n",
    "# 就是从i = 0、 1、 2、…9，然后每次打印i的值。\n",
    "# range(0,9)与数学上的[0, 10)类似。\n",
    "for i in range(0,10):\n",
    "    print(i)"
   ]
  },
  {
   "cell_type": "markdown",
   "metadata": {},
   "source": [
    "还有一种方式："
   ]
  },
  {
   "cell_type": "code",
   "execution_count": 17,
   "metadata": {
    "scrolled": true
   },
   "outputs": [
    {
     "name": "stdout",
     "output_type": "stream",
     "text": [
      "0\n",
      "1\n",
      "2\n",
      "3\n",
      "4\n",
      "5\n",
      "6\n",
      "7\n",
      "8\n",
      "9\n"
     ]
    }
   ],
   "source": [
    "# 代码大意：\n",
    "# 最开始i = 0\n",
    "# 如果i < 10 就一直执行下面的一段代码：打印i，然后给i加上1\n",
    "# 直到i < 10 不成立，再继续往下执行。\n",
    "i = 0\n",
    "while i < 10:\n",
    "    print(i)\n",
    "    i = i + 1"
   ]
  },
  {
   "cell_type": "markdown",
   "metadata": {},
   "source": [
    "根据官方推荐，**除了需要无限制循环（就是你也不知道需要多少次的情况），其余都用for语句。**因为while很容易被写错导致循环无数次，而你需要一直等。后果参见[蠢蠢的死法](https://www.bilibili.com/video/av395513/?from=search&seid=15222351609839474034)。\n",
    "\n",
    "**类和对象、属性和方法**\n",
    "\n",
    "在面向对象程序设计中，类（英语：class）是一种面向对象计算机编程语言的构造，是创建对象的蓝图，描述了所创建的对象共同的属性和方法。\n",
    "\n",
    "形象的说，类就是图纸，对象就是用图纸创造出来的实物。属性就是类包含的变量，方法就是类包含的函数。\n",
    "\n",
    "如果不懂，看下面的例子："
   ]
  },
  {
   "cell_type": "code",
   "execution_count": 18,
   "metadata": {},
   "outputs": [
    {
     "name": "stdout",
     "output_type": "stream",
     "text": [
      "I'm coming...With the eternal dakeness.\n"
     ]
    }
   ],
   "source": [
    "# 定义一个类，类名为Cat\n",
    "# 包括颜色color、alive两个属性分别代表颜色和是否活的\n",
    "# 有个方法叫sayhello，\n",
    "class Cat(object):\n",
    "    def __init__(self, color, alive):\n",
    "        self.color = color\n",
    "        self.alive = alive\n",
    "    def sayhello(self):\n",
    "        if self.alive:\n",
    "            print(f\"Hello, I'm a {self.color} cat.\")\n",
    "        else:\n",
    "            print(\"I'm coming...With the eternal dakeness.\")\n",
    "\n",
    "# 创建一个对象，对象名为black_cat，颜色为“black”，活着为True\n",
    "black_cat = Cat(\"black\", False)\n",
    "# 调用方法sayhello\n",
    "black_cat.sayhello()"
   ]
  },
  {
   "cell_type": "markdown",
   "metadata": {
    "collapsed": true
   },
   "source": [
    "**继承**\n",
    "\n",
    "就是为了偷懒，把已经写好的类再拿过来加工一遍，作为为一个新的类来使用。这样可以大幅度提高效率，很多工作可以不用重复做。\n",
    "\n",
    "比如上文已经定义了Cat类，但是现在需要定义一个Black_Cat类，就可以把写好的Cat的东西直接继承过来，不用重复写。\n"
   ]
  },
  {
   "cell_type": "code",
   "execution_count": 19,
   "metadata": {},
   "outputs": [
    {
     "name": "stdout",
     "output_type": "stream",
     "text": [
      "Hello, I'm a black cat.\n",
      "I'm flying!\n"
     ]
    }
   ],
   "source": [
    "# 这是原来的Cat类\n",
    "class Cat(object):\n",
    "    def __init__(self, color, alive):\n",
    "        self.color = color\n",
    "        self.alive = alive\n",
    "    def sayhello(self):\n",
    "        if self.alive:\n",
    "            print(f\"Hello, I'm a {self.color} cat.\")\n",
    "        else:\n",
    "            print(\"I'm coming...With the eternal dakeness.\")\n",
    "\n",
    "# 这是新的Black_Cat类：\n",
    "# 继承了Cat的属性和方法，同时多了一个属性flyable和一个方法fly\n",
    "class Black_cat(Cat):\n",
    "    def __init__(self, alive, flyable):\n",
    "        # super()代表父类Cat，这里是在调用Cat的__init__方法，如果多重继承的话会实现递归。\n",
    "        super().__init__(\"black\", alive)\n",
    "        self.flyable = flyable\n",
    "    # 新增一个fly方法\n",
    "    def fly(self):\n",
    "        if self.flyable:\n",
    "            print(\"I'm flying!\")\n",
    "        else:\n",
    "            print(\"sorry, I can't fly.\")\n",
    "            \n",
    "black_cat = Black_cat(True, True)\n",
    "# 这是继承来的方法\n",
    "black_cat.sayhello()\n",
    "# 这是新加的方法\n",
    "black_cat.fly()"
   ]
  },
  {
   "cell_type": "markdown",
   "metadata": {},
   "source": [
    "再说一遍，所谓继承，就是懒……于是把写好的稿子拿来加一些东西。\n",
    "\n",
    "## 总结\n",
    "\n",
    "现在可以做个总结，所谓学习计算机编程，就是为了偷懒。把重复而没有太多灵活性的工作写成固定的程序，然后交给计算机去做。\n",
    "\n",
    "**一切为了偷懒，或者，为了更好的偷懒。**\n",
    "\n",
    "换句好听的：为了把人类从单纯的重复劳动中解救出来。"
   ]
  }
 ],
 "metadata": {
  "kernelspec": {
   "display_name": "Python 3",
   "language": "python",
   "name": "python3"
  },
  "language_info": {
   "codemirror_mode": {
    "name": "ipython",
    "version": 3
   },
   "file_extension": ".py",
   "mimetype": "text/x-python",
   "name": "python",
   "nbconvert_exporter": "python",
   "pygments_lexer": "ipython3",
   "version": "3.6.1"
  }
 },
 "nbformat": 4,
 "nbformat_minor": 2
}
